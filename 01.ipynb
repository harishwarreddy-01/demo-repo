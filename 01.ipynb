{
 "cells": [
  {
   "cell_type": "code",
   "execution_count": 1,
   "id": "bf773ac9",
   "metadata": {},
   "outputs": [],
   "source": [
    "import pandas as pd"
   ]
  },
  {
   "cell_type": "code",
   "execution_count": 2,
   "id": "d808388b",
   "metadata": {},
   "outputs": [
    {
     "data": {
      "application/vnd.microsoft.datawrangler.viewer.v0+json": {
       "columns": [
        {
         "name": "index",
         "rawType": "int64",
         "type": "integer"
        },
        {
         "name": "Datum",
         "rawType": "object",
         "type": "string"
        },
        {
         "name": "Bewoelkung",
         "rawType": "float64",
         "type": "float"
        },
        {
         "name": "Temperatur",
         "rawType": "float64",
         "type": "float"
        },
        {
         "name": "Windgeschwindigkeit",
         "rawType": "int64",
         "type": "integer"
        },
        {
         "name": "Wettercode",
         "rawType": "float64",
         "type": "float"
        }
       ],
       "conversionMethod": "pd.DataFrame",
       "ref": "85e6ee1e-0fcf-4746-91e0-a364bc24f1b3",
       "rows": [
        [
         "0",
         "2012-01-01",
         "8.0",
         "9.825",
         "14",
         "58.0"
        ],
        [
         "1",
         "2012-01-02",
         "7.0",
         "7.4375",
         "12",
         null
        ],
        [
         "2",
         "2012-01-03",
         "8.0",
         "5.5375",
         "18",
         "63.0"
        ],
        [
         "3",
         "2012-01-04",
         "4.0",
         "5.6875",
         "19",
         "80.0"
        ],
        [
         "4",
         "2012-01-05",
         "6.0",
         "5.3",
         "23",
         "80.0"
        ]
       ],
       "shape": {
        "columns": 5,
        "rows": 5
       }
      },
      "text/html": [
       "<div>\n",
       "<style scoped>\n",
       "    .dataframe tbody tr th:only-of-type {\n",
       "        vertical-align: middle;\n",
       "    }\n",
       "\n",
       "    .dataframe tbody tr th {\n",
       "        vertical-align: top;\n",
       "    }\n",
       "\n",
       "    .dataframe thead th {\n",
       "        text-align: right;\n",
       "    }\n",
       "</style>\n",
       "<table border=\"1\" class=\"dataframe\">\n",
       "  <thead>\n",
       "    <tr style=\"text-align: right;\">\n",
       "      <th></th>\n",
       "      <th>Datum</th>\n",
       "      <th>Bewoelkung</th>\n",
       "      <th>Temperatur</th>\n",
       "      <th>Windgeschwindigkeit</th>\n",
       "      <th>Wettercode</th>\n",
       "    </tr>\n",
       "  </thead>\n",
       "  <tbody>\n",
       "    <tr>\n",
       "      <th>0</th>\n",
       "      <td>2012-01-01</td>\n",
       "      <td>8.0</td>\n",
       "      <td>9.8250</td>\n",
       "      <td>14</td>\n",
       "      <td>58.0</td>\n",
       "    </tr>\n",
       "    <tr>\n",
       "      <th>1</th>\n",
       "      <td>2012-01-02</td>\n",
       "      <td>7.0</td>\n",
       "      <td>7.4375</td>\n",
       "      <td>12</td>\n",
       "      <td>NaN</td>\n",
       "    </tr>\n",
       "    <tr>\n",
       "      <th>2</th>\n",
       "      <td>2012-01-03</td>\n",
       "      <td>8.0</td>\n",
       "      <td>5.5375</td>\n",
       "      <td>18</td>\n",
       "      <td>63.0</td>\n",
       "    </tr>\n",
       "    <tr>\n",
       "      <th>3</th>\n",
       "      <td>2012-01-04</td>\n",
       "      <td>4.0</td>\n",
       "      <td>5.6875</td>\n",
       "      <td>19</td>\n",
       "      <td>80.0</td>\n",
       "    </tr>\n",
       "    <tr>\n",
       "      <th>4</th>\n",
       "      <td>2012-01-05</td>\n",
       "      <td>6.0</td>\n",
       "      <td>5.3000</td>\n",
       "      <td>23</td>\n",
       "      <td>80.0</td>\n",
       "    </tr>\n",
       "  </tbody>\n",
       "</table>\n",
       "</div>"
      ],
      "text/plain": [
       "        Datum  Bewoelkung  Temperatur  Windgeschwindigkeit  Wettercode\n",
       "0  2012-01-01         8.0      9.8250                   14        58.0\n",
       "1  2012-01-02         7.0      7.4375                   12         NaN\n",
       "2  2012-01-03         8.0      5.5375                   18        63.0\n",
       "3  2012-01-04         4.0      5.6875                   19        80.0\n",
       "4  2012-01-05         6.0      5.3000                   23        80.0"
      ]
     },
     "execution_count": 2,
     "metadata": {},
     "output_type": "execute_result"
    }
   ],
   "source": [
    "# URL of the CSV file\n",
    "url = \"https://raw.githubusercontent.com/opencampus-sh/einfuehrung-in-data-science-und-ml/main/wetter.csv\"\n",
    "\n",
    "# Load the dataset into a DataFrame\n",
    "df = pd.read_csv(url)\n",
    "\n",
    "# Display the first few rows\n",
    "df.head()\n"
   ]
  },
  {
   "cell_type": "code",
   "execution_count": 3,
   "id": "afdd28c0",
   "metadata": {},
   "outputs": [
    {
     "name": "stdout",
     "output_type": "stream",
     "text": [
      "<class 'pandas.core.frame.DataFrame'>\n",
      "RangeIndex: 2601 entries, 0 to 2600\n",
      "Data columns (total 5 columns):\n",
      " #   Column               Non-Null Count  Dtype  \n",
      "---  ------               --------------  -----  \n",
      " 0   Datum                2601 non-null   object \n",
      " 1   Bewoelkung           2591 non-null   float64\n",
      " 2   Temperatur           2601 non-null   float64\n",
      " 3   Windgeschwindigkeit  2601 non-null   int64  \n",
      " 4   Wettercode           1932 non-null   float64\n",
      "dtypes: float64(3), int64(1), object(1)\n",
      "memory usage: 101.7+ KB\n"
     ]
    }
   ],
   "source": [
    "df.info()"
   ]
  },
  {
   "cell_type": "code",
   "execution_count": 4,
   "id": "7958b11d",
   "metadata": {},
   "outputs": [
    {
     "data": {
      "application/vnd.microsoft.datawrangler.viewer.v0+json": {
       "columns": [
        {
         "name": "index",
         "rawType": "object",
         "type": "string"
        },
        {
         "name": "Bewoelkung",
         "rawType": "float64",
         "type": "float"
        },
        {
         "name": "Temperatur",
         "rawType": "float64",
         "type": "float"
        },
        {
         "name": "Windgeschwindigkeit",
         "rawType": "float64",
         "type": "float"
        },
        {
         "name": "Wettercode",
         "rawType": "float64",
         "type": "float"
        }
       ],
       "conversionMethod": "pd.DataFrame",
       "ref": "ceae0d3b-a185-4ba4-ae4d-ef78f05a0db8",
       "rows": [
        [
         "count",
         "2591.0",
         "2601.0",
         "2601.0",
         "1932.0"
        ],
        [
         "mean",
         "4.805866460825936",
         "12.099585595540177",
         "11.191080353710111",
         "37.484472049689444"
        ],
        [
         "std",
         "2.5782990134989823",
         "7.174356601219034",
         "4.12469267219744",
         "27.56714447040997"
        ],
        [
         "min",
         "0.0",
         "-10.25",
         "3.0",
         "0.0"
        ],
        [
         "25%",
         "3.0",
         "6.5125",
         "8.0",
         "10.0"
        ],
        [
         "50%",
         "6.0",
         "12.0",
         "10.0",
         "28.0"
        ],
        [
         "75%",
         "7.0",
         "17.825",
         "14.0",
         "61.0"
        ],
        [
         "max",
         "8.0",
         "32.671428",
         "35.0",
         "95.0"
        ]
       ],
       "shape": {
        "columns": 4,
        "rows": 8
       }
      },
      "text/html": [
       "<div>\n",
       "<style scoped>\n",
       "    .dataframe tbody tr th:only-of-type {\n",
       "        vertical-align: middle;\n",
       "    }\n",
       "\n",
       "    .dataframe tbody tr th {\n",
       "        vertical-align: top;\n",
       "    }\n",
       "\n",
       "    .dataframe thead th {\n",
       "        text-align: right;\n",
       "    }\n",
       "</style>\n",
       "<table border=\"1\" class=\"dataframe\">\n",
       "  <thead>\n",
       "    <tr style=\"text-align: right;\">\n",
       "      <th></th>\n",
       "      <th>Bewoelkung</th>\n",
       "      <th>Temperatur</th>\n",
       "      <th>Windgeschwindigkeit</th>\n",
       "      <th>Wettercode</th>\n",
       "    </tr>\n",
       "  </thead>\n",
       "  <tbody>\n",
       "    <tr>\n",
       "      <th>count</th>\n",
       "      <td>2591.000000</td>\n",
       "      <td>2601.000000</td>\n",
       "      <td>2601.000000</td>\n",
       "      <td>1932.000000</td>\n",
       "    </tr>\n",
       "    <tr>\n",
       "      <th>mean</th>\n",
       "      <td>4.805866</td>\n",
       "      <td>12.099586</td>\n",
       "      <td>11.191080</td>\n",
       "      <td>37.484472</td>\n",
       "    </tr>\n",
       "    <tr>\n",
       "      <th>std</th>\n",
       "      <td>2.578299</td>\n",
       "      <td>7.174357</td>\n",
       "      <td>4.124693</td>\n",
       "      <td>27.567144</td>\n",
       "    </tr>\n",
       "    <tr>\n",
       "      <th>min</th>\n",
       "      <td>0.000000</td>\n",
       "      <td>-10.250000</td>\n",
       "      <td>3.000000</td>\n",
       "      <td>0.000000</td>\n",
       "    </tr>\n",
       "    <tr>\n",
       "      <th>25%</th>\n",
       "      <td>3.000000</td>\n",
       "      <td>6.512500</td>\n",
       "      <td>8.000000</td>\n",
       "      <td>10.000000</td>\n",
       "    </tr>\n",
       "    <tr>\n",
       "      <th>50%</th>\n",
       "      <td>6.000000</td>\n",
       "      <td>12.000000</td>\n",
       "      <td>10.000000</td>\n",
       "      <td>28.000000</td>\n",
       "    </tr>\n",
       "    <tr>\n",
       "      <th>75%</th>\n",
       "      <td>7.000000</td>\n",
       "      <td>17.825000</td>\n",
       "      <td>14.000000</td>\n",
       "      <td>61.000000</td>\n",
       "    </tr>\n",
       "    <tr>\n",
       "      <th>max</th>\n",
       "      <td>8.000000</td>\n",
       "      <td>32.671428</td>\n",
       "      <td>35.000000</td>\n",
       "      <td>95.000000</td>\n",
       "    </tr>\n",
       "  </tbody>\n",
       "</table>\n",
       "</div>"
      ],
      "text/plain": [
       "        Bewoelkung   Temperatur  Windgeschwindigkeit   Wettercode\n",
       "count  2591.000000  2601.000000          2601.000000  1932.000000\n",
       "mean      4.805866    12.099586            11.191080    37.484472\n",
       "std       2.578299     7.174357             4.124693    27.567144\n",
       "min       0.000000   -10.250000             3.000000     0.000000\n",
       "25%       3.000000     6.512500             8.000000    10.000000\n",
       "50%       6.000000    12.000000            10.000000    28.000000\n",
       "75%       7.000000    17.825000            14.000000    61.000000\n",
       "max       8.000000    32.671428            35.000000    95.000000"
      ]
     },
     "execution_count": 4,
     "metadata": {},
     "output_type": "execute_result"
    }
   ],
   "source": [
    "df.describe()"
   ]
  },
  {
   "cell_type": "code",
   "execution_count": 5,
   "id": "2c4b4a18",
   "metadata": {},
   "outputs": [
    {
     "name": "stdout",
     "output_type": "stream",
     "text": [
      "Overall Average Temperature: 12.099585595540177\n"
     ]
    }
   ],
   "source": [
    "overall_avg_temperature = df['Temperatur'].mean()\n",
    "print(\"Overall Average Temperature:\", overall_avg_temperature)"
   ]
  },
  {
   "cell_type": "code",
   "execution_count": 6,
   "id": "da06a8a6",
   "metadata": {},
   "outputs": [
    {
     "name": "stdout",
     "output_type": "stream",
     "text": [
      "Average Temperature for July: 20.75114227125506\n"
     ]
    }
   ],
   "source": [
    "# Convert the 'Datum' column to datetime format\n",
    "df['Datum'] = pd.to_datetime(df['Datum'])\n",
    "\n",
    "# Filter rows for the month of July\n",
    "july_data = df[df['Datum'].dt.month == 7]\n",
    "\n",
    "# Calculate the average temperature for July\n",
    "july_avg_temperature = july_data['Temperatur'].mean()\n",
    "print(\"Average Temperature for July:\", july_avg_temperature)"
   ]
  }
 ],
 "metadata": {
  "kernelspec": {
   "display_name": "Python 3",
   "language": "python",
   "name": "python3"
  },
  "language_info": {
   "codemirror_mode": {
    "name": "ipython",
    "version": 3
   },
   "file_extension": ".py",
   "mimetype": "text/x-python",
   "name": "python",
   "nbconvert_exporter": "python",
   "pygments_lexer": "ipython3",
   "version": "3.13.2"
  }
 },
 "nbformat": 4,
 "nbformat_minor": 5
}
