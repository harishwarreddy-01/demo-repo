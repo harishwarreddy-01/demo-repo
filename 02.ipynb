{
 "cells": [
  {
   "cell_type": "code",
   "execution_count": 1,
   "id": "bba9fa8a",
   "metadata": {},
   "outputs": [],
   "source": [
    "import pandas as pd\n",
    "\n",
    "df = pd.read_csv('wetter.csv')\n"
   ]
  },
  {
   "cell_type": "code",
   "execution_count": 2,
   "id": "f1a2b3b7",
   "metadata": {},
   "outputs": [
    {
     "data": {
      "application/vnd.microsoft.datawrangler.viewer.v0+json": {
       "columns": [
        {
         "name": "index",
         "rawType": "object",
         "type": "string"
        },
        {
         "name": "Bewoelkung",
         "rawType": "float64",
         "type": "float"
        },
        {
         "name": "Temperatur",
         "rawType": "float64",
         "type": "float"
        },
        {
         "name": "Windgeschwindigkeit",
         "rawType": "float64",
         "type": "float"
        },
        {
         "name": "Wettercode",
         "rawType": "float64",
         "type": "float"
        }
       ],
       "conversionMethod": "pd.DataFrame",
       "ref": "b084f3e7-49a4-4a6f-911a-8e14af84bfed",
       "rows": [
        [
         "count",
         "2591.0",
         "2601.0",
         "2601.0",
         "1932.0"
        ],
        [
         "mean",
         "4.805866460825936",
         "12.099585595540177",
         "11.191080353710111",
         "37.484472049689444"
        ],
        [
         "std",
         "2.5782990134989823",
         "7.174356601219034",
         "4.12469267219744",
         "27.56714447040997"
        ],
        [
         "min",
         "0.0",
         "-10.25",
         "3.0",
         "0.0"
        ],
        [
         "25%",
         "3.0",
         "6.5125",
         "8.0",
         "10.0"
        ],
        [
         "50%",
         "6.0",
         "12.0",
         "10.0",
         "28.0"
        ],
        [
         "75%",
         "7.0",
         "17.825",
         "14.0",
         "61.0"
        ],
        [
         "max",
         "8.0",
         "32.671428",
         "35.0",
         "95.0"
        ]
       ],
       "shape": {
        "columns": 4,
        "rows": 8
       }
      },
      "text/html": [
       "<div>\n",
       "<style scoped>\n",
       "    .dataframe tbody tr th:only-of-type {\n",
       "        vertical-align: middle;\n",
       "    }\n",
       "\n",
       "    .dataframe tbody tr th {\n",
       "        vertical-align: top;\n",
       "    }\n",
       "\n",
       "    .dataframe thead th {\n",
       "        text-align: right;\n",
       "    }\n",
       "</style>\n",
       "<table border=\"1\" class=\"dataframe\">\n",
       "  <thead>\n",
       "    <tr style=\"text-align: right;\">\n",
       "      <th></th>\n",
       "      <th>Bewoelkung</th>\n",
       "      <th>Temperatur</th>\n",
       "      <th>Windgeschwindigkeit</th>\n",
       "      <th>Wettercode</th>\n",
       "    </tr>\n",
       "  </thead>\n",
       "  <tbody>\n",
       "    <tr>\n",
       "      <th>count</th>\n",
       "      <td>2591.000000</td>\n",
       "      <td>2601.000000</td>\n",
       "      <td>2601.000000</td>\n",
       "      <td>1932.000000</td>\n",
       "    </tr>\n",
       "    <tr>\n",
       "      <th>mean</th>\n",
       "      <td>4.805866</td>\n",
       "      <td>12.099586</td>\n",
       "      <td>11.191080</td>\n",
       "      <td>37.484472</td>\n",
       "    </tr>\n",
       "    <tr>\n",
       "      <th>std</th>\n",
       "      <td>2.578299</td>\n",
       "      <td>7.174357</td>\n",
       "      <td>4.124693</td>\n",
       "      <td>27.567144</td>\n",
       "    </tr>\n",
       "    <tr>\n",
       "      <th>min</th>\n",
       "      <td>0.000000</td>\n",
       "      <td>-10.250000</td>\n",
       "      <td>3.000000</td>\n",
       "      <td>0.000000</td>\n",
       "    </tr>\n",
       "    <tr>\n",
       "      <th>25%</th>\n",
       "      <td>3.000000</td>\n",
       "      <td>6.512500</td>\n",
       "      <td>8.000000</td>\n",
       "      <td>10.000000</td>\n",
       "    </tr>\n",
       "    <tr>\n",
       "      <th>50%</th>\n",
       "      <td>6.000000</td>\n",
       "      <td>12.000000</td>\n",
       "      <td>10.000000</td>\n",
       "      <td>28.000000</td>\n",
       "    </tr>\n",
       "    <tr>\n",
       "      <th>75%</th>\n",
       "      <td>7.000000</td>\n",
       "      <td>17.825000</td>\n",
       "      <td>14.000000</td>\n",
       "      <td>61.000000</td>\n",
       "    </tr>\n",
       "    <tr>\n",
       "      <th>max</th>\n",
       "      <td>8.000000</td>\n",
       "      <td>32.671428</td>\n",
       "      <td>35.000000</td>\n",
       "      <td>95.000000</td>\n",
       "    </tr>\n",
       "  </tbody>\n",
       "</table>\n",
       "</div>"
      ],
      "text/plain": [
       "        Bewoelkung   Temperatur  Windgeschwindigkeit   Wettercode\n",
       "count  2591.000000  2601.000000          2601.000000  1932.000000\n",
       "mean      4.805866    12.099586            11.191080    37.484472\n",
       "std       2.578299     7.174357             4.124693    27.567144\n",
       "min       0.000000   -10.250000             3.000000     0.000000\n",
       "25%       3.000000     6.512500             8.000000    10.000000\n",
       "50%       6.000000    12.000000            10.000000    28.000000\n",
       "75%       7.000000    17.825000            14.000000    61.000000\n",
       "max       8.000000    32.671428            35.000000    95.000000"
      ]
     },
     "execution_count": 2,
     "metadata": {},
     "output_type": "execute_result"
    }
   ],
   "source": [
    "df.describe()"
   ]
  },
  {
   "cell_type": "code",
   "execution_count": null,
   "id": "f9229f21",
   "metadata": {},
   "outputs": [],
   "source": []
  }
 ],
 "metadata": {
  "kernelspec": {
   "display_name": "Python 3",
   "language": "python",
   "name": "python3"
  },
  "language_info": {
   "codemirror_mode": {
    "name": "ipython",
    "version": 3
   },
   "file_extension": ".py",
   "mimetype": "text/x-python",
   "name": "python",
   "nbconvert_exporter": "python",
   "pygments_lexer": "ipython3",
   "version": "3.13.2"
  }
 },
 "nbformat": 4,
 "nbformat_minor": 5
}
